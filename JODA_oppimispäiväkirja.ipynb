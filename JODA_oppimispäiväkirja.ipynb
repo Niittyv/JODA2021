{
 "cells": [
  {
   "cell_type": "markdown",
   "metadata": {},
   "source": [
    "## Viikko 1"
   ]
  },
  {
   "cell_type": "markdown",
   "metadata": {},
   "source": [
    "Osallistuin avausluennolle ja kävin läpi ensimmäisen koodiklinikan notebookin itsenäisesti. Käytän päiväkirjan laatimiseen luennolla läpikäytyjä asioita ja koodidemossa käytän oman projektini koodia."
   ]
  },
  {
   "cell_type": "markdown",
   "metadata": {},
   "source": [
    "Kerron luennon keskeisimpiä asioita viitaten ensimmäisen luennon notebookin sisältöön. Tutustuimme Venn diagrammiin, jossa on datatieteen neljä kokonaisuutta. Todellinen unelmien datatieteilijä hallitsisi kaikki nämä osa-alueet (liiketoimintaosaaminen, ohjelmointi- ja tietokantaosaaminen, tilastollinen analyysi ja datalähtöinen viestintä ja visualisointi). Todellisuudessa kuitenkin datatiede projekteja tehdään yleensä tiimeissä, jossa jokaisella tekijällä on omat vahvuutensa eri osa-alueissa. Esim. joku tiimistä voisi olla data engineer vahvan osaamisensa takia tietokannoissa ja pilviarkkitehtuureissa. Tiimistä löytyy myös todennäköisesti tilastollista analyysia hallitseva jäsen ja product owner, jonka tehtävänä on viestiä stakeholderien kanssa ja välittää vaatimuksia tiimillensä. \n",
    "\n",
    "Luennolla käytiin läpi myös datatieteen määritelmää. Joku voisi ajatella datatieteen olevan vain tilastotiedettä koristeltuna kimalteella, mutta todellisuudessa datatiede on myös liiketoiminta-ajattelua ja esimerkiksi laajoja ohjelmointitoteutuksien tuottamista. Itse olen myös havahtunut, että koneoppimista pidetään usein vain sovellettuna tilastotieteenä. Tuotantoon pantavien koneoppimismallien kehittäminen ja jatkuva optimointi kuitenkin vaatii muutakin kuin tilasto-osaamista.\n",
    "\n",
    "Datatieteen merkitys on kasvanut ihmisten havahduttua valtaviin määriin dataa heidän ympärillään ja mahdollisuuksista etsiä datasta vastauksia liiketoiminnan kysymyksiin. Ensiksi kysytään ihmisiltä ja sen jälkeen kysellään datalta.\n",
    "\n",
    "Mooren laista on myös notebookissa mainintaa. Käyn parhaillaan concurrency-kurssia, jossa on ollut mainintaa samasta aiheesta. Vaikka kellotaajuuksien kasvu on pysähtynyt, yhä pienempiä transistoreja voidaan pakata pienemmälle alueelle mikropiiriä ja mikropiirien määrää voi myös kasvattaa jolloin laskenteho nousee transistorien määrän lisääntyessä. Tämä on johtanut myös siihen, että rinnakkainen laskenta on yleistynyt. Säikeitä jaetaan useammalle prosessointiyksikölle laskettavaksi samanaikaisesti.\n",
    "\n",
    "Luin myös perjantain koodipajan notebookin läpi. Olen iloinen siitä, että pääsin taas kertaamaan Pandasin funktionaliteetteja. Pandas on itsessään minulle hyvin tuttu työelämästä ja omista projekteisteistani, mutta muistin virkistäjänä sisältö toimi hyvin. Notebookissa käsiteltiin myyntidataa (luettiin data sisään, transformoitiin muuttujia, luotiin uusia muuttujia) ja tehtiin pienimuotoista analyysia esim. Pivot-taulukolla ja yksinkertaisella histogrammi-graafilla.\n"
   ]
  },
  {
   "cell_type": "markdown",
   "metadata": {},
   "source": [
    "Viisi tärkeintä oppimaani asiaa luennolta:"
   ]
  },
  {
   "cell_type": "markdown",
   "metadata": {},
   "source": [
    "1. Big dataa ympäröi kova hype, mutta oikeastaan vain isot firmat kuten Google tai Amazon pääsee niihin käsiksi (sosiaalisen median dataa). Toisaalta massadataa on myös lääketieteen puolella.\n",
    "2. Datatiede on muutakin kuin vain teknistä osaamista (liiketoimintakeskeinen ajattelu on tärkeää)\n",
    "3. Datatieteen kirjoon kuuluu valtava määrä opeteltavia asioita, mutta onneksi projekteja tehdään yleensä tiimeissä. Omiin vahvuuksiin ei välttämättä tarvitse siis kuulua kaikkia datatieteen sateenvarjon alle kuuluvia asiakokonaisuuksia.\n",
    "4. Vaikka datatiede on ollut iso juttu jo kymmenen vuotta, niin hyvin harva yritys on edes ryhtynyt muuttamaan toimintaansa datalähtöisemmäksi.\n",
    "5. 80% datatiede projektista on datasepän työtä. (ETL:lää eli datan hankkimista, puhdistamista, transformointia)."
   ]
  },
  {
   "cell_type": "markdown",
   "metadata": {},
   "source": [
    "Flippausvinkit (en ihan ymmärtänyt tehtävänantoa):"
   ]
  },
  {
   "cell_type": "markdown",
   "metadata": {},
   "source": [
    "1. Haluan oppia kysymään oikeita kysymyksiä stakeholdereilta ja opetella ns. systeemiajattelua. Tekninen osaaminen ei ole oma pullonkaulani.\n",
    "2. Vähän kertailla Pandasia"
   ]
  },
  {
   "cell_type": "markdown",
   "metadata": {},
   "source": [
    "Koodidemo omasta vanhasta elinajanodote-projektista Pythonilla:"
   ]
  },
  {
   "cell_type": "code",
   "execution_count": null,
   "metadata": {},
   "outputs": [],
   "source": [
    "#Tarvittava kirjasto datan käsittelyä varten (dataframe)\n",
    "import pandas as pd\n",
    "%pylab inline\n",
    "%matplotlib inline"
   ]
  },
  {
   "cell_type": "code",
   "execution_count": null,
   "metadata": {},
   "outputs": [],
   "source": [
    "#Ladataan data ohjelmaan dataframeksi ja näytetään ylimmät rivit\n",
    "df = pd.read_excel(\"FinalData.xlsx\") #Data from World Bank\n",
    "df.head(25)"
   ]
  },
  {
   "cell_type": "code",
   "execution_count": null,
   "metadata": {},
   "outputs": [],
   "source": [
    "#Tarkastellaan eri muuttujien jakaumia ja havaitaan outlierit\n",
    "df.describe()"
   ]
  },
  {
   "cell_type": "code",
   "execution_count": null,
   "metadata": {},
   "outputs": [],
   "source": [
    "#Katsotaan muuttujien datatyypit\n",
    "print(df.dtypes)"
   ]
  },
  {
   "cell_type": "code",
   "execution_count": null,
   "metadata": {},
   "outputs": [],
   "source": [
    "#Tarkastetaan puuttuvien arvojen määrät jokaisesta muuttujasta\n",
    "df.apply(lambda x: sum(x.isnull()),axis=0) #amount of missing values for each column"
   ]
  },
  {
   "cell_type": "code",
   "execution_count": null,
   "metadata": {},
   "outputs": [],
   "source": [
    "#Tarkastetaan selitettävän muuttujan normaalijakautuneisuus\n",
    "df['LifeExpextancy'].hist(bins=15)"
   ]
  },
  {
   "cell_type": "code",
   "execution_count": null,
   "metadata": {},
   "outputs": [],
   "source": [
    "#Tutkitaan myös selitettävän muuttujan jakaumaa boxplotilla kehitysmaiden ja teollisuusmaiden välillä ja havaitaan myös\n",
    "#outliereitä selitettävässä muuttujassa\n",
    "df.boxplot(column='LifeExpextancy', by = 'DevelopedOrNot')"
   ]
  },
  {
   "cell_type": "code",
   "execution_count": null,
   "metadata": {},
   "outputs": [],
   "source": [
    "#Tarkastellaan pearsonin korrelaatiokertoimia eri muuttujien välillä\n",
    "df.corr(method='pearson') "
   ]
  },
  {
   "cell_type": "markdown",
   "metadata": {},
   "source": [
    "Koko koodin löytää omasta github repostani: https://github.com/Niittyv/Data-science-project-life-expectancy/blob/master/DS_project.ipynb"
   ]
  },
  {
   "cell_type": "markdown",
   "metadata": {},
   "source": [
    "# "
   ]
  },
  {
   "cell_type": "markdown",
   "metadata": {},
   "source": [
    "## Viikko 2"
   ]
  },
  {
   "cell_type": "markdown",
   "metadata": {},
   "source": [
    "Katsoin viikon luennon Panoptosta ja kävin itsenäisesti koodiklinikan materiaalin läpi. Luin myös Harvard Business -artikkelin.\n",
    "\n",
    "Luennon aiheena oli data kerääminen ja erityisesti ryömijät ja raapijat. Alussa käytiin läpi datatieteen prosessin kaaviota (datatieteen työnkulku) ja esiin tuli ETL:n ja DAD:n eroavaisuudet. ETL (extract/transform/load) on enemmän datainsinöörien juttu ja keskittyy datan saamiseen osaksi infastruktuuria. DAD (Discover/access/distill) taas koskee enemmän datatietelijöitä. Tässä prosessissa data otetaan nopeasti haltuun ja ensimmäiset analyysit saadaan valmiiksi todella pian. Datatieteen työkaavio on hyvin syklimäinen rakenteeltaan. Kun stakeholdereille on saatu analyysien tuloksia, syntyy seurauksena usein uusia kysymyksiä ja mennään takaisin analyysivaiheeseen.\n",
    "\n",
    "Datan keräämiseen voidaan käyttää ohjelmointirajapintoja (API) tai dataa voi esimerkiksi ostaa. Myös käyttöoikeudet eri ohjelmointirajapintoihin on ostettavissa. Lisäksi nettisivuille voidaan tehdä ruudun raavintaa, jolloin esimerkiksi asiakasarviodataa saadaan suoraan yritysten nettisivuilta (kuten verkkokaupasta). Ruudun raavinnassa pitää kuitenkin ottaa eettiset kysymykset huomioon. Ruudun raavintaa voi tehdä esim scrapylla tai beautiful soupilla (Python kirjastoja). Raavinnasta tulee kuitenkin hyvin haastavaa jos webbisivut ovat dynaamisia. Saatetaan tarvita selainemulaattoria.\n",
    "\n",
    "Googlen hakukone on ryömijä. Ryömijät toimivat hakemalla netistä dokumentteja ja jälleen etenemällä dokumentista toiseen.\n",
    "\n",
    "Analytiikalle on erillaisia alalajeja:\n",
    "1. kuvaileva analytiikka pyrkii selittämään mitä on tapahtunut\n",
    "2. diagnisoiva analytiikka pyrkii selittämään miksi jotain tapahtui\n",
    "3. ennakoivassa analyytikassa on usein kyse aikasarja-aineiston mallintamisesta tulevaisuuteen\n",
    "4. ohjaava analytiikka pyrkii vastaamaan kysymykseen mitä asialle pitäisi tehdä\n",
    "\n",
    "Lopuksi käytiin läpi data wranglingia. Enimmäkseen sitä, kuinka dataa muutetaan oikeaan formaattiin (päivämäärät datetime-formaattiin). Lisäksi näytettiin hieman EDAa eli exploriittista data-analyysia. Nopealla exploriittisella analyysilla saadaan itseasiassa aika paljon hyvää tulosta ja löydöksiä heti alkuun ja siihen todellakin kannattaa käyttää aikaa sen sijasta, että heti alkaisi kehittelemään ML-malleja.\n",
    "\n",
    "\n",
    "Viisi tärkeintä oppimaani asiaa luennolta:\n",
    "\n",
    "1. Tuotteistettu analytiikka vaatii ETL-prosessit alleen (Datan pitää olla hyvässä formaatissa jotta sitä voi käyttää analytiikkaan tuotannossa).\n",
    "2. Data science tuotteet kuuluvat myös ohjelmistotekniikan alaisuuteen. Tämä tarkoittaa siis sitä, että esim. tuotannossa olevaa koodia analyysia varten pitää myös debugata.\n",
    "3. Videoita voi upottaa jupyter notebookkiin.\n",
    "4. Harvard Business -artikkeli \"Why data science teams need generalists, not specialists\" opetti, että datatieteilijöiden tiimeissä tehokkuus ei ole tärkeintä. Tärkeintä on, että jokainen tiimin jäsen oppii mahdollisimman paljon. Datatiede-tuotteita ei voi suunnitella etukäteen, ne pitää oppia. TÄMÄ ON TÄRKEÄÄ ITSELLENI.\n",
    "5. Yrityksissä on paljon hyödyntämätöntä potentiaalia analytiikalle.\n",
    "\n",
    "Flippivinkit:\n",
    "1. Demokoodi oli vaikeasti ymmärrettävää. En oikeen saanut siitä mitään irti. Voisin katsoa raapijoista ja ryömijöistä esimerkkejä jostain muualta."
   ]
  },
  {
   "cell_type": "markdown",
   "metadata": {},
   "source": [
    "# "
   ]
  },
  {
   "cell_type": "markdown",
   "metadata": {},
   "source": [
    "## Viikko 3"
   ]
  },
  {
   "cell_type": "markdown",
   "metadata": {},
   "source": [
    "Katsoin viikon luennon Panoptosta. Olin paikalla koodiklinikassa. \n",
    "\n",
    "Tämän viikon aiheena on ohjattu oppiminen. Ohjatussa oppimisessa datasetti siis sisältää selitettävän muuttujan arvoja. Datasetistä etsitään tärkeitä ominaisuuksia (featureita), joiden avulla voidaan ennustaa selitettävän muuttujan arvoja.\n",
    "Opetusdata sisältää sekä selitettävän ominaisuuden arvoja, että selittävien ominaisuuksien arvoja. Opetusdatalla opetetaan malli tekemään ennusteita selittävien ominaisuuksien perusteella. Testidataa ei näytetä mallille opetusvaiheessa, vaan mallia kokeillaan sellaiseen dataan, jota se ei ole ennen nähnyt. Tällä tavalla voidaan testata mallin suorituskykyä. Pelkän mallin tarkkuuden tutkiminen ei riitä overfitin takia, vaan esim. cross-validaatiota kannattaa käyttää mallin suorituskykyä arvioidessa.\n",
    "\n",
    "Feature selectionilla valitaan parhaat ominaisuudet ja feature engineeringillä yhdistellään ominaisuuksia (piirteiden jalostaminen). Kun koneoppimismallin koulutus on valmista ja ollaan tyytyväisiä mallin suorituskykyyn, voidaan se siirtää tuotantoon jossa se käsittelee ja tekee ennustuksia uudesta datasta. Omalla kokemuksellani ohjattua oppimista voidaan käyttää pelkästään jo siihen, että etsitään datasta hyviä selittäviä ominaisuuksia. Joissakin tapauksissa siis ilman tuotantoon laitettavaa mallia.\n",
    "\n",
    "Erityyppissiä piirteitä (ominaisuuksia/featureja) on esim. binäärisiä, kategorisia ja jatkuvia.\n",
    "\n",
    "Mainintana tuli \"tekoälytalvi\", josta olen kuullut aikaisemmin kurssilla nimeltä \"johdatus tekoälyyn\" Oulun yliopistolla. Kyseessä on siis jäätävä hype tekoälyn potentiaalista ja tutkimusläpimurroista: Yleensä ollaan kuitenkin petytty, kun tekoäly ei kyennytkään tarjoamaan sitä mitä odotettiin. Luennolla mainittiin, että nykyään kuitenkin isot teollisuuden firmat (Google, Amazon, jne..) kykenee tarjoamaan paljon massiivisempia määriä dataa kehittäjäyhteisölle. Tekoälyä on siis mahdollsita integroida helpommin maailmanlaajuisiin prosesseihin. \n",
    "\n",
    "Ohjatun oppimisen lisäksi on myös vahvistusoppimista, ohjaamatonta oppimista ja semi-ohjattua oppimista.\n",
    "\n",
    "Luennolla käytiin läpi NLP:tä (luonnollisen kielen prosessointia). Ensimmäisenä yritettiin koodata eniten esiintyvien sanojen lukumääriä tekstissä ja poistettiin hukkasanat (kuten a, the, an). NLP:llä on iso tulevaisuus edessään ja siihen liittyy myös monitieteisyyttä. Työkaverini teki varsin mittavaa NLP-analyysia viime kesänä ja kiinnostuin kovasti näistä menetelmistä.\n",
    "\n",
    "\n",
    "\n",
    "Viisi tärkeintä oppimaani asiaa luennolta:\n",
    "1. Tampereen yliopistolla on huipputason konenäkö-tutkimusta. Maisterivaiheessa pääsen uppoutumaan aiheeseen paremmin.\n",
    "2. Asiakaspoistuma-analyysilla on hyvä lähteä liikkeelle. Olen tehnytkin tätä töissä jo ja tulen varmasti tekemään lisää.\n",
    "3. Machinelearningmastery on loistava nettisivu valmiiden toteutusten löytämiseen.\n",
    "4. \"raakadataa\" ei oikeastaan ole olemassa. Aina kun dataa kerätään ihmisten ja organisaatioiden toimesta, on keräämisen taustalla ihmisten olettamuksia ja heidän valintoja. Dataan siis pitää suhtautua aina kriittisesti ja tehdä huolellisesti EDAa ja tutkia tätä dataa kaikenlaisten virheiden varalta. Kannattaa katsoa jakaumia. \n",
    "5. Tekoälystä ei ole mitään hyötyä, jos yritys ei tiedä mitä on tekemässä (perusliiketoiminta ensiksi kuntoon).\n",
    "6. featureiden ja algoritmien olisi hyvä olla selkeästi selitettävissä myös business-ihmisille.\n",
    "7. Eri malleja ja skaalausmenetelmiä testattaessa voi mallit ja eri tavoilla skaalatut dataframet laittaa nätisti listoihin ja sen jälkeen for-loopissa iteroida eri menetelmät läpi eri dataframeille. Tämä on hyvin algoritminen tapa kokeilla eri mallien ja menetelmien performanssia pienellä määrällä koodia.\n",
    "\n",
    "Flippivinkit:\n",
    "1. Tutustu data lakeen\n",
    "2. tutustu TF-IDF (NLP:tä varten)"
   ]
  },
  {
   "cell_type": "code",
   "execution_count": null,
   "metadata": {},
   "outputs": [],
   "source": []
  }
 ],
 "metadata": {
  "kernelspec": {
   "display_name": "Python 3",
   "language": "python",
   "name": "python3"
  },
  "language_info": {
   "codemirror_mode": {
    "name": "ipython",
    "version": 3
   },
   "file_extension": ".py",
   "mimetype": "text/x-python",
   "name": "python",
   "nbconvert_exporter": "python",
   "pygments_lexer": "ipython3",
   "version": "3.8.5"
  }
 },
 "nbformat": 4,
 "nbformat_minor": 4
}
